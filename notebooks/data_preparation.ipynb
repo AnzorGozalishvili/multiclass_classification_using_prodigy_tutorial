{
 "cells": [
  {
   "cell_type": "markdown",
   "metadata": {},
   "source": [
    "# Imports"
   ]
  },
  {
   "cell_type": "code",
   "execution_count": 1,
   "metadata": {},
   "outputs": [],
   "source": [
    "import os\n",
    "import re\n",
    "import sys\n",
    "import numpy as np\n",
    "import pandas as pd\n",
    "\n",
    "import matplotlib.pyplot as plt\n",
    "%matplotlib inline"
   ]
  },
  {
   "cell_type": "markdown",
   "metadata": {},
   "source": [
    "# Read Data"
   ]
  },
  {
   "cell_type": "code",
   "execution_count": 2,
   "metadata": {},
   "outputs": [],
   "source": [
    "data = pd.read_csv('../data/toxic_data.csv')"
   ]
  },
  {
   "cell_type": "markdown",
   "metadata": {},
   "source": [
    "# Show Samples"
   ]
  },
  {
   "cell_type": "code",
   "execution_count": 3,
   "metadata": {},
   "outputs": [
    {
     "data": {
      "text/html": [
       "<div>\n",
       "<style scoped>\n",
       "    .dataframe tbody tr th:only-of-type {\n",
       "        vertical-align: middle;\n",
       "    }\n",
       "\n",
       "    .dataframe tbody tr th {\n",
       "        vertical-align: top;\n",
       "    }\n",
       "\n",
       "    .dataframe thead th {\n",
       "        text-align: right;\n",
       "    }\n",
       "</style>\n",
       "<table border=\"1\" class=\"dataframe\">\n",
       "  <thead>\n",
       "    <tr style=\"text-align: right;\">\n",
       "      <th></th>\n",
       "      <th>id</th>\n",
       "      <th>comment_text</th>\n",
       "      <th>toxic</th>\n",
       "      <th>severe_toxic</th>\n",
       "      <th>obscene</th>\n",
       "      <th>threat</th>\n",
       "      <th>insult</th>\n",
       "      <th>identity_hate</th>\n",
       "    </tr>\n",
       "  </thead>\n",
       "  <tbody>\n",
       "    <tr>\n",
       "      <th>125358</th>\n",
       "      <td>9e8ee0af14a4c1c5</td>\n",
       "      <td>\"== Turkey etc. ==\\n\\nHallo !\\n\\nTurkey and th...</td>\n",
       "      <td>0</td>\n",
       "      <td>0</td>\n",
       "      <td>0</td>\n",
       "      <td>0</td>\n",
       "      <td>0</td>\n",
       "      <td>0</td>\n",
       "    </tr>\n",
       "    <tr>\n",
       "      <th>43957</th>\n",
       "      <td>75533d7b73f87e9f</td>\n",
       "      <td>No I copied it verbatum from the History of th...</td>\n",
       "      <td>0</td>\n",
       "      <td>0</td>\n",
       "      <td>0</td>\n",
       "      <td>0</td>\n",
       "      <td>0</td>\n",
       "      <td>0</td>\n",
       "    </tr>\n",
       "    <tr>\n",
       "      <th>121704</th>\n",
       "      <td>8b24c05202f52b67</td>\n",
       "      <td>That is one explanation. Though I think there'...</td>\n",
       "      <td>0</td>\n",
       "      <td>0</td>\n",
       "      <td>0</td>\n",
       "      <td>0</td>\n",
       "      <td>0</td>\n",
       "      <td>0</td>\n",
       "    </tr>\n",
       "    <tr>\n",
       "      <th>102377</th>\n",
       "      <td>23e55090e8651b61</td>\n",
       "      <td>Can we at least try not to be a mouthpiece for...</td>\n",
       "      <td>0</td>\n",
       "      <td>0</td>\n",
       "      <td>0</td>\n",
       "      <td>0</td>\n",
       "      <td>0</td>\n",
       "      <td>0</td>\n",
       "    </tr>\n",
       "    <tr>\n",
       "      <th>99428</th>\n",
       "      <td>13e4a1abe996440e</td>\n",
       "      <td>\":::There's no need to speak in videogame ling...</td>\n",
       "      <td>0</td>\n",
       "      <td>0</td>\n",
       "      <td>0</td>\n",
       "      <td>0</td>\n",
       "      <td>0</td>\n",
       "      <td>0</td>\n",
       "    </tr>\n",
       "  </tbody>\n",
       "</table>\n",
       "</div>"
      ],
      "text/plain": [
       "                      id                                       comment_text  \\\n",
       "125358  9e8ee0af14a4c1c5  \"== Turkey etc. ==\\n\\nHallo !\\n\\nTurkey and th...   \n",
       "43957   75533d7b73f87e9f  No I copied it verbatum from the History of th...   \n",
       "121704  8b24c05202f52b67  That is one explanation. Though I think there'...   \n",
       "102377  23e55090e8651b61  Can we at least try not to be a mouthpiece for...   \n",
       "99428   13e4a1abe996440e  \":::There's no need to speak in videogame ling...   \n",
       "\n",
       "        toxic  severe_toxic  obscene  threat  insult  identity_hate  \n",
       "125358      0             0        0       0       0              0  \n",
       "43957       0             0        0       0       0              0  \n",
       "121704      0             0        0       0       0              0  \n",
       "102377      0             0        0       0       0              0  \n",
       "99428       0             0        0       0       0              0  "
      ]
     },
     "execution_count": 3,
     "metadata": {},
     "output_type": "execute_result"
    }
   ],
   "source": [
    "data.sample(5)"
   ]
  },
  {
   "cell_type": "markdown",
   "metadata": {},
   "source": [
    "# Show Labels Distributions"
   ]
  },
  {
   "cell_type": "code",
   "execution_count": 4,
   "metadata": {},
   "outputs": [
    {
     "data": {
      "text/html": [
       "<div>\n",
       "<style scoped>\n",
       "    .dataframe tbody tr th:only-of-type {\n",
       "        vertical-align: middle;\n",
       "    }\n",
       "\n",
       "    .dataframe tbody tr th {\n",
       "        vertical-align: top;\n",
       "    }\n",
       "\n",
       "    .dataframe thead th {\n",
       "        text-align: right;\n",
       "    }\n",
       "</style>\n",
       "<table border=\"1\" class=\"dataframe\">\n",
       "  <thead>\n",
       "    <tr style=\"text-align: right;\">\n",
       "      <th></th>\n",
       "      <th>toxic</th>\n",
       "      <th>severe_toxic</th>\n",
       "      <th>obscene</th>\n",
       "      <th>threat</th>\n",
       "      <th>insult</th>\n",
       "      <th>identity_hate</th>\n",
       "    </tr>\n",
       "  </thead>\n",
       "  <tbody>\n",
       "    <tr>\n",
       "      <th>count</th>\n",
       "      <td>159571.000000</td>\n",
       "      <td>159571.000000</td>\n",
       "      <td>159571.000000</td>\n",
       "      <td>159571.000000</td>\n",
       "      <td>159571.000000</td>\n",
       "      <td>159571.000000</td>\n",
       "    </tr>\n",
       "    <tr>\n",
       "      <th>mean</th>\n",
       "      <td>0.095844</td>\n",
       "      <td>0.009996</td>\n",
       "      <td>0.052948</td>\n",
       "      <td>0.002996</td>\n",
       "      <td>0.049364</td>\n",
       "      <td>0.008805</td>\n",
       "    </tr>\n",
       "    <tr>\n",
       "      <th>std</th>\n",
       "      <td>0.294379</td>\n",
       "      <td>0.099477</td>\n",
       "      <td>0.223931</td>\n",
       "      <td>0.054650</td>\n",
       "      <td>0.216627</td>\n",
       "      <td>0.093420</td>\n",
       "    </tr>\n",
       "    <tr>\n",
       "      <th>min</th>\n",
       "      <td>0.000000</td>\n",
       "      <td>0.000000</td>\n",
       "      <td>0.000000</td>\n",
       "      <td>0.000000</td>\n",
       "      <td>0.000000</td>\n",
       "      <td>0.000000</td>\n",
       "    </tr>\n",
       "    <tr>\n",
       "      <th>25%</th>\n",
       "      <td>0.000000</td>\n",
       "      <td>0.000000</td>\n",
       "      <td>0.000000</td>\n",
       "      <td>0.000000</td>\n",
       "      <td>0.000000</td>\n",
       "      <td>0.000000</td>\n",
       "    </tr>\n",
       "    <tr>\n",
       "      <th>50%</th>\n",
       "      <td>0.000000</td>\n",
       "      <td>0.000000</td>\n",
       "      <td>0.000000</td>\n",
       "      <td>0.000000</td>\n",
       "      <td>0.000000</td>\n",
       "      <td>0.000000</td>\n",
       "    </tr>\n",
       "    <tr>\n",
       "      <th>75%</th>\n",
       "      <td>0.000000</td>\n",
       "      <td>0.000000</td>\n",
       "      <td>0.000000</td>\n",
       "      <td>0.000000</td>\n",
       "      <td>0.000000</td>\n",
       "      <td>0.000000</td>\n",
       "    </tr>\n",
       "    <tr>\n",
       "      <th>max</th>\n",
       "      <td>1.000000</td>\n",
       "      <td>1.000000</td>\n",
       "      <td>1.000000</td>\n",
       "      <td>1.000000</td>\n",
       "      <td>1.000000</td>\n",
       "      <td>1.000000</td>\n",
       "    </tr>\n",
       "  </tbody>\n",
       "</table>\n",
       "</div>"
      ],
      "text/plain": [
       "               toxic   severe_toxic        obscene         threat  \\\n",
       "count  159571.000000  159571.000000  159571.000000  159571.000000   \n",
       "mean        0.095844       0.009996       0.052948       0.002996   \n",
       "std         0.294379       0.099477       0.223931       0.054650   \n",
       "min         0.000000       0.000000       0.000000       0.000000   \n",
       "25%         0.000000       0.000000       0.000000       0.000000   \n",
       "50%         0.000000       0.000000       0.000000       0.000000   \n",
       "75%         0.000000       0.000000       0.000000       0.000000   \n",
       "max         1.000000       1.000000       1.000000       1.000000   \n",
       "\n",
       "              insult  identity_hate  \n",
       "count  159571.000000  159571.000000  \n",
       "mean        0.049364       0.008805  \n",
       "std         0.216627       0.093420  \n",
       "min         0.000000       0.000000  \n",
       "25%         0.000000       0.000000  \n",
       "50%         0.000000       0.000000  \n",
       "75%         0.000000       0.000000  \n",
       "max         1.000000       1.000000  "
      ]
     },
     "execution_count": 4,
     "metadata": {},
     "output_type": "execute_result"
    }
   ],
   "source": [
    "data.describe()"
   ]
  },
  {
   "cell_type": "markdown",
   "metadata": {},
   "source": [
    "# Check empty values (NaN)"
   ]
  },
  {
   "cell_type": "code",
   "execution_count": 5,
   "metadata": {},
   "outputs": [
    {
     "data": {
      "text/plain": [
       "id               False\n",
       "comment_text     False\n",
       "toxic            False\n",
       "severe_toxic     False\n",
       "obscene          False\n",
       "threat           False\n",
       "insult           False\n",
       "identity_hate    False\n",
       "dtype: bool"
      ]
     },
     "execution_count": 5,
     "metadata": {},
     "output_type": "execute_result"
    }
   ],
   "source": [
    "data.isna().any()"
   ]
  },
  {
   "cell_type": "markdown",
   "metadata": {},
   "source": [
    "# No imputation is required since we don't have any missing values"
   ]
  },
  {
   "cell_type": "code",
   "execution_count": 6,
   "metadata": {},
   "outputs": [
    {
     "data": {
      "text/plain": [
       "Index(['id', 'comment_text', 'toxic', 'severe_toxic', 'obscene', 'threat',\n",
       "       'insult', 'identity_hate'],\n",
       "      dtype='object')"
      ]
     },
     "execution_count": 6,
     "metadata": {},
     "output_type": "execute_result"
    }
   ],
   "source": [
    "data.columns"
   ]
  },
  {
   "cell_type": "markdown",
   "metadata": {},
   "source": [
    "## check length of texts distribution"
   ]
  },
  {
   "cell_type": "code",
   "execution_count": 7,
   "metadata": {},
   "outputs": [
    {
     "data": {
      "image/png": "[encoded data removed]",
      "text/plain": [
       "<Figure size 432x288 with 1 Axes>"
      ]
     },
     "metadata": {
      "needs_background": "light"
     },
     "output_type": "display_data"
    }
   ],
   "source": [
    "data.comment_text.apply(len).hist(bins=50);"
   ]
  },
  {
   "cell_type": "markdown",
   "metadata": {},
   "source": [
    "## check distributions of classes"
   ]
  },
  {
   "cell_type": "code",
   "execution_count": 8,
   "metadata": {},
   "outputs": [],
   "source": [
    "class_columns = data.columns[2:]"
   ]
  },
  {
   "cell_type": "code",
   "execution_count": 9,
   "metadata": {},
   "outputs": [],
   "source": [
    "class_columns_sum = data[class_columns].sum()"
   ]
  },
  {
   "cell_type": "code",
   "execution_count": 10,
   "metadata": {},
   "outputs": [
    {
     "data": {
      "image/png": "[encoded data removed]",
      "text/plain": [
       "<Figure size 1080x504 with 1 Axes>"
      ]
     },
     "metadata": {},
     "output_type": "display_data"
    }
   ],
   "source": [
    "plt.figure(figsize=(15, 7))\n",
    "plt.pie(class_columns_sum, labels=class_columns_sum.index);"
   ]
  },
  {
   "cell_type": "markdown",
   "metadata": {},
   "source": [
    "## check percentage of unlabeled samples"
   ]
  },
  {
   "cell_type": "code",
   "execution_count": 13,
   "metadata": {},
   "outputs": [],
   "source": [
    "class_percentages = class_columns_sum/data.shape[0]"
   ]
  },
  {
   "cell_type": "code",
   "execution_count": 16,
   "metadata": {},
   "outputs": [
    {
     "data": {
      "image/png": "[encoded data removed]",
      "text/plain": [
       "<Figure size 432x288 with 1 Axes>"
      ]
     },
     "metadata": {
      "needs_background": "light"
     },
     "output_type": "display_data"
    }
   ],
   "source": [
    "class_percentages.plot.bar();"
   ]
  },
  {
   "cell_type": "code",
   "execution_count": 17,
   "metadata": {},
   "outputs": [
    {
     "data": {
      "text/plain": [
       "(159571, 8)"
      ]
     },
     "execution_count": 17,
     "metadata": {},
     "output_type": "execute_result"
    }
   ],
   "source": [
    "data.shape"
   ]
  },
  {
   "cell_type": "markdown",
   "metadata": {},
   "source": [
    "# Rename text column to match Prodigy Requirements"
   ]
  },
  {
   "cell_type": "code",
   "execution_count": 18,
   "metadata": {},
   "outputs": [
    {
     "data": {
      "text/plain": [
       "Index(['id', 'comment_text', 'toxic', 'severe_toxic', 'obscene', 'threat',\n",
       "       'insult', 'identity_hate'],\n",
       "      dtype='object')"
      ]
     },
     "execution_count": 18,
     "metadata": {},
     "output_type": "execute_result"
    }
   ],
   "source": [
    "data.columns"
   ]
  },
  {
   "cell_type": "code",
   "execution_count": 22,
   "metadata": {},
   "outputs": [],
   "source": [
    "data.rename(mapper={'comment_text':'text'}, axis=1, inplace=True)"
   ]
  },
  {
   "cell_type": "markdown",
   "metadata": {},
   "source": [
    "# Save Data"
   ]
  },
  {
   "cell_type": "code",
   "execution_count": 23,
   "metadata": {},
   "outputs": [],
   "source": [
    "data.to_csv('../data/preprocessed_data.csv')"
   ]
  },
  {
   "cell_type": "markdown",
   "metadata": {},
   "source": [
    "# Take only labeled & multi-class examples"
   ]
  },
  {
   "cell_type": "code",
   "execution_count": 25,
   "metadata": {},
   "outputs": [],
   "source": [
    "labeled_data = data[data[class_columns].sum(axis=1) > 1]"
   ]
  },
  {
   "cell_type": "code",
   "execution_count": 26,
   "metadata": {},
   "outputs": [
    {
     "data": {
      "text/plain": [
       "(9865, 8)"
      ]
     },
     "execution_count": 26,
     "metadata": {},
     "output_type": "execute_result"
    }
   ],
   "source": [
    "labeled_data.shape"
   ]
  },
  {
   "cell_type": "code",
   "execution_count": 27,
   "metadata": {},
   "outputs": [],
   "source": [
    "labeled_data.to_csv('../data/preprocessed_labeled_data.csv')"
   ]
  },
  {
   "cell_type": "markdown",
   "metadata": {},
   "source": [
    "# Take samples from each class to find some patterns"
   ]
  },
  {
   "cell_type": "markdown",
   "metadata": {},
   "source": [
    "- toxic\n",
    "- severe_toxic\n",
    "- obscene\n",
    "- threat\n",
    "- insult\n",
    "- identity_hate"
   ]
  },
  {
   "cell_type": "code",
   "execution_count": 42,
   "metadata": {},
   "outputs": [],
   "source": [
    "samples_per_class = {}"
   ]
  },
  {
   "cell_type": "code",
   "execution_count": 50,
   "metadata": {},
   "outputs": [],
   "source": [
    "for class_name in class_columns:\n",
    "    candidates = data[\n",
    "        (data[class_name] == 1) & (data[class_columns].sum(axis=1) == 1)\n",
    "    ].text\n",
    "    \n",
    "    if candidates.shape[0] == 0:\n",
    "        candidates = data[data[class_name] == 1].text\n",
    "        \n",
    "    samples_per_class[class_name] = candidates.sample(10, random_state=0).values.tolist()"
   ]
  },
  {
   "cell_type": "code",
   "execution_count": 51,
   "metadata": {},
   "outputs": [
    {
     "data": {
      "text/plain": [
       "[10, 10, 10, 10, 10, 10]"
      ]
     },
     "execution_count": 51,
     "metadata": {},
     "output_type": "execute_result"
    }
   ],
   "source": [
    "[len(item) for item in samples_per_class.values()]"
   ]
  },
  {
   "cell_type": "code",
   "execution_count": 41,
   "metadata": {},
   "outputs": [],
   "source": [
    "def beautiful_print(texts):\n",
    "    sep = '-'*50+'\\n'\n",
    "    for text in texts:\n",
    "        print(sep+text+sep)"
   ]
  },
  {
   "cell_type": "markdown",
   "metadata": {},
   "source": [
    "## toxic"
   ]
  },
  {
   "cell_type": "code",
   "execution_count": 53,
   "metadata": {},
   "outputs": [
    {
     "name": "stdout",
     "output_type": "stream",
     "text": [
      "--------------------------------------------------\n",
      "\"::::::\"\"You know?  My neighbor is famous and I think he's gay.  The people down the road hate his guts and have surely testified.  Some have told me that these people have said so, but some other people don't have a clue or care one way or the other, while some have actually investigated the matter and found it nothing.\"\"'  24.255.11.149  \n",
      "\n",
      "\"--------------------------------------------------\n",
      "\n",
      "--------------------------------------------------\n",
      "\"\n",
      "\n",
      "It's not nonsense he really is a virgin\n",
      "\n",
      "Hi, fuck off, this is my User Talk page, who the hell reverts it to an old version?  Do you not have a life?\n",
      "\n",
      "Thomas \"\"Virgin\"\" Keller has surely never had sex.\"--------------------------------------------------\n",
      "\n",
      "--------------------------------------------------\n",
      "You really are a pretentious twat, aren't you?--------------------------------------------------\n",
      "\n",
      "--------------------------------------------------\n",
      "your right bro, your so right.....not! i hate you. block me you fagplease--------------------------------------------------\n",
      "\n",
      "--------------------------------------------------\n",
      "|Christopher Connor]]. I am off to my daily masturbation routine. I'll think of a giraffe this time. That will make me cum quick--------------------------------------------------\n",
      "\n",
      "--------------------------------------------------\n",
      "HAHAHAHA TEBAG IN THE FACE\n",
      "\n",
      "OOWEEEOOWEEEAHHHH\n",
      "\n",
      "TEABAG ON RED CRUSADE\n",
      "\n",
      "BROOM BROOM CLEAN MY BUS\n",
      "\n",
      "SWEEP MY FLOOR\n",
      "\n",
      "DOGGY DOGGY\n",
      "\n",
      "WOOF !--------------------------------------------------\n",
      "\n",
      "--------------------------------------------------\n",
      "Poop boy \n",
      "\n",
      "You. Poop. Poop boy. Poop. Poop poop poop poop poop poop poop poop poop boy. Youuuuuuuuuuu!--------------------------------------------------\n",
      "\n",
      "--------------------------------------------------\n",
      "\"\n",
      "\n",
      " Admins and cowards \n",
      "The fact is admins have been pathetically useless at handling DS you cannot even keep him from violating his IBAN so you choose to block both and make an example of TP since you know TP is civil and will not call you lot \"\"wankers\"\" or \"\"pricks\"\" I know Reagentspark is fond of being called a wanker by DS thats why he wants TP blocked for a week for a violation he did not commit admins please grow some balls and deal with DS thats the root of the problem no hounding by DS means no reporting by TP its actually not rocket science I do understand some admins may feel threatened by DS and his aggressive style but hes not going to come out of the computer screen and grabs your balls.....be a man and stop DS from hounding (with whatever block indef most likely) TP and it will be over ! 86.177.11.244  \"--------------------------------------------------\n",
      "\n",
      "--------------------------------------------------\n",
      "Regarding your threat to me: please stop deliberately misconstruing policy. I have studied it quite thoroughly after earlier disagreements I have had.\n",
      "\n",
      "I consider your threats to me to be incivil behavior.--------------------------------------------------\n",
      "\n",
      "--------------------------------------------------\n",
      "Are you really going to let that guy walk away scout free, because he's an admin, and block me because I was concerned about a conflict of interest? I want to take this up with ARBCOM. This is ridiculous.--------------------------------------------------\n",
      "\n"
     ]
    }
   ],
   "source": [
    "beautiful_print(samples_per_class['toxic'])"
   ]
  },
  {
   "cell_type": "markdown",
   "metadata": {},
   "source": [
    "## severe toxic"
   ]
  },
  {
   "cell_type": "code",
   "execution_count": 55,
   "metadata": {},
   "outputs": [
    {
     "name": "stdout",
     "output_type": "stream",
     "text": [
      "--------------------------------------------------\n",
      "I SWEAR TO FUCKING CHRIST, LEAVE ME ALONE!!!!!!!!!!!!!!! I.T.'S.  M.Y. P.A.G.E.!!!!!!!!!!!! WHY DO YOU CHANGE????? ARE YOU SOME PERVERTED  STALKER!!!!!!!!!!!!!!!!!!!!!!!!--------------------------------------------------\n",
      "\n",
      "--------------------------------------------------\n",
      "FUCK YOU \n",
      "\n",
      "Fuck You keep blocking me I'll keep coming back, Are so fucking bored that you have to sit around and fuck with me on the goddamn computer. Get a life ASSHOLE!!!!!!!!!!!!!!!!!!!!!!!!!!!!!!!!!!!!!!!--------------------------------------------------\n",
      "\n",
      "--------------------------------------------------\n",
      "suck my dick i dont give a fuck--------------------------------------------------\n",
      "\n",
      "--------------------------------------------------\n",
      "soulja bitch is whack, fuck da dirty south--------------------------------------------------\n",
      "\n",
      "--------------------------------------------------\n",
      "Oral sex \n",
      "\n",
      "Lay off the fellatio page, cumshitter.--------------------------------------------------\n",
      "\n",
      "--------------------------------------------------\n",
      "fuck u \n",
      "\n",
      "ur a fuckin faggot--------------------------------------------------\n",
      "\n",
      "--------------------------------------------------\n",
      "cheSTOP ADDING IN SHIT ONLY TO SUPPORT YOUR FUCKING POLITICAL VIEWS. YOUR ADDITIONS ONTO WIKIPEDIA ARE UNINTELLECTUAL, BIASED, AND ARE ONLY ADDED TO MISINFORM AND MANIPULATE PEOPLE INTO THINKING THAT EVERYTHING THE REPUBLICAN PARTY DOES IS DERIVED FROMT HE MOUTH OF GOD. YOU FUCKING PIECE OF NIGGER SHIT. EITHER ADD CONSTRUCTIVE EDITS THAT USE REAL SOURCES OR STAY THE FUCK OFF OF WIKIPEDIA. WOULD YOU LIKE SOMEONE EDITING THE GEORGE BUSH PAGE WITH COMMENTS FROM MICHAEL MOORE OR KEITH OLBERMAN? NO YOU WOULDNT. SO SHOW SOME RESPECT AND KEEP YOUR POLITICAL SHIT OFF OF WIKIPEDIA. FUCK YOU, YOU UNITELLECTUAL PIECE OF GARBAGE SHIT. FUCK YOU NIGGER.ck--------------------------------------------------\n",
      "\n",
      "--------------------------------------------------\n",
      "I Want You \n",
      "\n",
      "I wanna rape you good. I want your sexy body and sexually abuse you!--------------------------------------------------\n",
      "\n",
      "--------------------------------------------------\n",
      "\"\n",
      "\n",
      "Do you contribute ANYTHING?\n",
      "I'd like to know if you are a human or just a destructobot.... if you are a desructobot, can I say \"\"Fuck You\"\" or does that disrupt your circuits?  What if I said \"\"Fuck You\"\" in destructobot language?  That any different?  Let me know, dick.  \"--------------------------------------------------\n",
      "\n",
      "--------------------------------------------------\n",
      "stop reverting my edit\n",
      "your so fucken gay get a fucken life your fagot or go get laid or something--------------------------------------------------\n",
      "\n"
     ]
    }
   ],
   "source": [
    "beautiful_print(samples_per_class['severe_toxic'])"
   ]
  },
  {
   "cell_type": "markdown",
   "metadata": {},
   "source": [
    "## obscene"
   ]
  },
  {
   "cell_type": "code",
   "execution_count": 56,
   "metadata": {
    "scrolled": false
   },
   "outputs": [
    {
     "name": "stdout",
     "output_type": "stream",
     "text": [
      "--------------------------------------------------\n",
      "Re Radiojerk talk page\n",
      "See WP: BLOW ME for what I think of you and RadioJerk.--------------------------------------------------\n",
      "\n",
      "--------------------------------------------------\n",
      "\"\n",
      "\n",
      "Erroneous comment stricken. Still, don't delete comments outright just because you don't think they're appropriate. There's nothing in the rules that forbids casual use of words like \"\"fuck\"\" on discussion pages. Also, what I posted above is not an attack. I mention this because one of your friends coming to your aid accused me of attacking you.\"--------------------------------------------------\n",
      "\n",
      "--------------------------------------------------\n",
      "\"\n",
      "\n",
      "This needed to be clarified since there has been a problem with him inserting subsequent posts ahead of mine, which can be misleading to a reader. When I tried to correct the positions yesterday in another incident, here is what he wrote in his edit summary when he positioned his post ahead of mine again:\n",
      "\n",
      "01:57, 13 May 2010 The Magnificent Clean-keeper (talk | contribs) m (180,836 bytes) (Undid revision 361800511 by Zlykinskyja (talk)Don't fucking move my comments again. This is plain vandalism) (undo)\n",
      "\n",
      "So when I objected to his use again of the word \"\"fucking\"\" he then used it at me two more times, as reflected above. This follows a prior incident a few weeks ago when he used the word \"\"fucking\"\" at me. I repeatedly objected and asked him not to do that. I think he did this again because he knew it would upset me because of how upset I was about the prior incident. \n",
      "\n",
      "Also, I have been called by someone else a \"\"bitch\"\" and the words \"\"cunt\"\" and \"\"cock\"\" \"\"shit\"\" have been directed at me on this Talk page. I have repeatedly objected and nothing is done. It is as if women who want to contribute here have to put up with a gauntlet of abuse if they wish to stay here. And no, it isn't unreasonable to object to such disrespectful treatment of women. This is not the 1950s. None of this should be going on.   \"--------------------------------------------------\n",
      "\n",
      "--------------------------------------------------\n",
      "\"\n",
      "No, I'm not joking.  I'm hoping to help BD avoid digging himself into a hole full of shite.  Really, that's what I'm doing.  I know it may be hard, but please trust me on this.  (talk …stalk!) \"--------------------------------------------------\n",
      "\n",
      "--------------------------------------------------\n",
      "Thank you for admitting you were wrong in reverting my edits because I was actually getting pissed off by your actions, I am sorry for snapping at you and calling you a 'dumbass' we did have a misunderstanding and we will just forgive and forget. )--------------------------------------------------\n",
      "\n",
      "--------------------------------------------------\n",
      "A little clique controls the Technocracy articles to very very bad effect==\n",
      "The same group of scum bag tandem editors that have controlled and now want to misrepresent any and all articles connected with Technocracy issues ... even to the point of trying to delete the article now.\n",
      "http://en.wikipedia.org/wiki/User_talk:Johnfos#The_Signpost:_17_October_2011\n",
      "http://en.wikipedia.org/wiki/User_talk:Epipelagic\n",
      "http://en.wikipedia.org/wiki/User_talk:Beagel\n",
      "http://en.wikipedia.org/wiki/User_talk:Lawrencekhoo\n",
      "\n",
      "Mostly they collude to give bad information.\n",
      "TAB\n",
      "The same group of tandem editors from several years ago still try and control this article. They want to eliminate an article about one of the major social movements ... the group that started it. \n",
      "Wikipedia is known for special interest control and buddy editing. Its a pity and the reason a serious article on an important American group is being tried to be done away with by tandem editors that obviously object for some reason to the content. The past clearly shows the same team of tandem editors here.\n",
      "Beagle and Johnphos are tandem editors as is Lawrencekhoo and Epipelagic... One of the most significant groups in American history and they want to get rid of the article. Its pathetic and shows the weakness of en. Wikipedia. Lawrencekhoo is a mainstream economist who ax grinds economic articles Google his name for his economic 'beliefs' Gino And fifle fool... it does not have a fucking thing to do with communism you dumb ass. Thanks\n",
      "\n",
      "==--------------------------------------------------\n",
      "\n",
      "--------------------------------------------------\n",
      "\" \n",
      "\n",
      "Apostle12, much agreement about the pointless of \"\"Fuck the Police\"\" as a rallying cry.  \n",
      "In posting here, just remember we here are not Occupy Oakland, we're not affiliated with them, we're not necessarily supporters of them.  We're Wikipedia an independent media agency.   We're trying to document, we're not trying to support. \n",
      "Criticisms for the OccupyOakland should be sent to them by email or social media.    We're not them, and I don't think they check this page. )    \"--------------------------------------------------\n",
      "\n",
      "--------------------------------------------------\n",
      "\"\n",
      "After numerous edit conflicts - yes, I am FEMALE and have never made any secret of it. Dave or whatever your name is, if you want to take me to AN/I, just carry on - it will be a new experience for me. I have always done my best but evidently \"\"editors\"\" like yourself and the exalted Liz feel that is not good enough so on you go. I do not give a shit.  - Chat \n",
      "\"--------------------------------------------------\n",
      "\n",
      "--------------------------------------------------\n",
      "\"\n",
      "\n",
      " \"\"removing thugstep. you've already had this explained to you\"\" \n",
      "One more of those 'you've already had this explained to you' tries and you'll get told about. If you suggest a thing to Thugstep article do a thing if you fucking dislike thugstep that shouldn't be a deal for wikipedia  86.57.254.215  \"--------------------------------------------------\n",
      "\n",
      "--------------------------------------------------\n",
      "UNBLOCK: 1. The reason I used sockpuppets was to avoid harassment from user: Dibo who immediately reverted all my edits, ,  and  when I forgot to log and branded me a sockpuppet of some previous user, here  which the checkuser proved did not exist . I got into a revert war with user: Tancred and user: Dibo who from the contributions, seemed to devote their time exclusively to making trouble and aiding each other in edit wars, as is shown here, ,  as well as in the earlier case regarding user: Ehinger222 who they erroneeouslly accused me of being. After several days of edit warring with user: Tancred over the right to call rugby league football, football,(surely a neccessity and not erroneous), user: Tancred's vandalism to the rugby league nations template here , The names of various sports on the Marconi stadium site  and whether the a-league franchises should be referred to as clubs(part of their franchise names, e.g.Queensland Roar FC is a franchise and not a club, but takes the name of a club for marketting reasons) or franchises, and whether minor premiers were premiers or not. Tancred has a history of edit wars, exemplified no better than here. I was banned by user: Chuq although my last free edits from here were this , , my last was this .  is where I made an argument for my case for the A-League case. Earlier, I had asked Chuq to please get a non soccer admin to help sort it out made in language not too different to chuq's .  Funnilly enough user:Chuq sent no warnings to user:Dibo and user:Tancred despite their equally uncivil and accusatry of vandalism here , (I was not one at that stage, as I was not trying to misuse the system and eing honest enough not to use this account to try to sway the argument),  , (note the term POV rubbish). I felt I was hard done by and resolved to annoy the blockers as much as they had annoyed me before resuming as my previous identity and making a large number of useful contributions before being bogged down by a piece of shit like user:Dibo who provoked this whole encounter. User:Dibo and User:tancred are the ones who should be banned if any justice is to be done, and I am resolved upon annoying the whole lot of you unless I am unblocked and the usefullness of my <500 edits is acknowledged as actual contributions and user:dibo recognised as the edit warrer that he/she/ it is.--------------------------------------------------\n",
      "\n"
     ]
    }
   ],
   "source": [
    "beautiful_print(samples_per_class['obscene'])"
   ]
  },
  {
   "cell_type": "markdown",
   "metadata": {},
   "source": [
    "## threat"
   ]
  },
  {
   "cell_type": "code",
   "execution_count": 57,
   "metadata": {},
   "outputs": [
    {
     "name": "stdout",
     "output_type": "stream",
     "text": [
      "--------------------------------------------------\n",
      "That may be the case, but there is still no ambiguity over the repulsiveness of irish nationalists, who deserved to be shot dead. 79.75.141.101--------------------------------------------------\n",
      "\n",
      "--------------------------------------------------\n",
      "\"\n",
      "\n",
      "New Award\n",
      "\n",
      "Well Done!!!\n",
      "\n",
      "  The IAmTheCoinMan You Are Really Annoying And You Are Good At Anti-Vandalism Barnstar I, , award you the The IAmTheCoinMan You Are Really Annoying And You Are Good At Anti-Vandalism Barnstar for your multiple prompt reverts to my joke.  Protecting the wiki isn't important, and an unimportant task under that is protecting other wikipedians!  Your efforts are much much not appreciated.  I hope someone cuts of your hands! \"--------------------------------------------------\n",
      "\n",
      "--------------------------------------------------\n",
      "I'ma smack ya upside da head wit a shovel. \n",
      "\n",
      "I'm takin ya down, boi.--------------------------------------------------\n",
      "\n",
      "--------------------------------------------------\n",
      "If you block me for telling you what you are, there will bw a holy war, I promise you that.--------------------------------------------------\n",
      "\n",
      "--------------------------------------------------\n",
      "That's funny. You was personally offended? So the bad things writer new you, your name etc, right? \n",
      "And one get offended by a comment, or epithets on a website, then that same person must grow up spiritually for some more 5 centuries at least.\n",
      "And if one get more offended by the previous comment, then that same person must kill him/hersef.\n",
      "\n",
      "Take care!--------------------------------------------------\n",
      "\n",
      "--------------------------------------------------\n",
      "limited time \n",
      "\n",
      "i know who you are heathen. i know what you do.  i will finish you.--------------------------------------------------\n",
      "\n",
      "--------------------------------------------------\n",
      "I am going to bash your skull in and urinate all over your corpse. \n",
      "\n",
      "I am going to bash your skull in and urinate all over your corpse.--------------------------------------------------\n",
      "\n",
      "--------------------------------------------------\n",
      "I'm going to punt your cat about, then it will die. Then you can invent a cyber-cat you geek. However, I will proceed to punt that.--------------------------------------------------\n",
      "\n",
      "--------------------------------------------------\n",
      "I KNOW IT'S ENGLAND BECAUSE IT SAYS UTC \n",
      "\n",
      "IN FACT I'LL BLOW UP UK AND IRELAND!--------------------------------------------------\n",
      "\n",
      "--------------------------------------------------\n",
      "Wikistalking \n",
      "\n",
      "Unless you wish to be targeted yourself in a similar manner to Deskana I suggest to cease stalking me and reverting my edits at once--------------------------------------------------\n",
      "\n"
     ]
    }
   ],
   "source": [
    "beautiful_print(samples_per_class['threat'])"
   ]
  },
  {
   "cell_type": "markdown",
   "metadata": {},
   "source": [
    "## insult"
   ]
  },
  {
   "cell_type": "code",
   "execution_count": 58,
   "metadata": {},
   "outputs": [
    {
     "name": "stdout",
     "output_type": "stream",
     "text": [
      "--------------------------------------------------\n",
      "\"\n",
      "\n",
      " Hi Marcuse. I see you've run into Sojambi Pinola. don't mind him, he's a buffoon. He is friend of Biff Rose's. They mention each other on their respective web spots. Looks like the two of them are on here basahing other people until they stand alone as edit king. Too bad someone else wrote about Rose's own anti semiticism, and racism. Poor Sojambi has been trying to fix it ever since. The sad thing is, he is so one sided, he has a difficult time persuading others of his NPOV- therefore he lashes out, and you were caught up in the crossfire(evidence here[]) Notice, he's only comparing what he wants you to see. the connection? well there isn't any really, but by creative use of wiki skills he tries to cover his own manipulations by using hanging you up as the villain. It's a rather typical obfuscation tehnique. By accusing every person who posts something that makes an edit to his work, he then marks them as a bad user. It's also reminiscent of those toubling Republican smear tactics of last year- only translated to this site. He's a schmuck. Claims to be latino, then claims to be jewish, then claims to be black, then claims to be white. Next he'll claim to be a woman. He's already claimed to be a few other people, and it was his vandalism of other peoples talk page and of the Rose page itself that got it frozen in the first place. Also of note is his complete inability to sleuth. I would find his \"\"detective\"\" skills humorous if they weren't so evil. good luck, and I bet your singing voice would improve, if only you would practice. \"--------------------------------------------------\n",
      "\n",
      "--------------------------------------------------\n",
      "\"::::::::::::::They aren't well then why do you people care about it to such a degree, Wikia are so much better, they have detailed articles, and they don't have idiot \"\"martians\"\" (who cannot be verified to exist), reverting what anyone else writes (and even proves for them).  76.95.66.209  \n",
      "\n",
      "\"--------------------------------------------------\n",
      "\n",
      "--------------------------------------------------\n",
      "One\n",
      "I am the one who put Cheventogne there ok? So let me remove my mistakes. Do me a favor, you can put Cheventogne back, ONLY if you find the name of the abbey. And do not call me and idiot, you are an idiot yourself for not understaning this.--------------------------------------------------\n",
      "\n",
      "--------------------------------------------------\n",
      "He lied on my RFC too.  He's a liar.--------------------------------------------------\n",
      "\n",
      "--------------------------------------------------\n",
      "i am insulted \n",
      "i write a comment on your talk page and its nonsence? i have not been vandalising. i am insulted greatly. and why is there some pic of a fat jimbo wales on a computer? i am not reposible. you cannot acuse without prove.--------------------------------------------------\n",
      "\n",
      "--------------------------------------------------\n",
      "(UTC)\n",
      "\n",
      " Not knowing what happened,  perhaps the IP-only poster was an idiot etc.  However,  as an editor using only an IP,  they'll likely never to see your rant.  Therefore I'm not sure of the point of having the above on the discussion page (etc).  Could someone clarify the underlying issue?  Thanks.  03:33, 25 June 2012--------------------------------------------------\n",
      "\n",
      "--------------------------------------------------\n",
      "Johnny the Vandal \n",
      "Hi Redvers, I see that you've also fallen foul of the idiot Johnny the Vandal ( most recently). I just thought I'd welcome you to our select band  if you're in anything like my position you can look forward to at least 3 years of this idiot vandalising your talk page ( Best regards,--------------------------------------------------\n",
      "\n",
      "--------------------------------------------------\n",
      "\"\n",
      "\n",
      " Why do you edit Dawnseeker2000 talk pages \n",
      "\n",
      "Are you a sock puppet of his? You 2 seem to \"\"work\"\" together on so much 5.134.117.171  \"--------------------------------------------------\n",
      "\n",
      "--------------------------------------------------\n",
      "how many free images have you scanned? what is your new user name: bbbbbastard?--------------------------------------------------\n",
      "\n",
      "--------------------------------------------------\n",
      "You translated much more clumsy, dude.\n",
      "I just wanted Suvorov's name to be known to English speakers.--------------------------------------------------\n",
      "\n"
     ]
    }
   ],
   "source": [
    "beautiful_print(samples_per_class['insult'])"
   ]
  },
  {
   "cell_type": "markdown",
   "metadata": {},
   "source": [
    "## identity_hate"
   ]
  },
  {
   "cell_type": "code",
   "execution_count": 59,
   "metadata": {},
   "outputs": [
    {
     "name": "stdout",
     "output_type": "stream",
     "text": [
      "--------------------------------------------------\n",
      "The Jews who keep trolling this article are merely trying to cause a problem.  If they weren't then why are they always together, Jewish and all on topics even just slightly related to Jews?  Maybe they should learn to read Polish?  God forbid that I would stick up for the little guy, whilst these jackasses won't stop their ganging up.  I've already been threatened with a promise by--------------------------------------------------\n",
      "\n",
      "--------------------------------------------------\n",
      "Gay Hatred \n",
      "\n",
      "Ah I see you are a homophobe just like Joakim Noah. Maybe one day people can live in peace but until then we just have to put up with people like you.--------------------------------------------------\n",
      "\n",
      "--------------------------------------------------\n",
      "holocaust was needed by the whole humanity--------------------------------------------------\n",
      "\n",
      "--------------------------------------------------\n",
      "I too agree with you, after seeing the POV changes in the anti-India articles, after I have been blocked. Let this site continue to be used for donation-begging of the kind that  Asian beggars do through exhibition of fake wounds and amputations. I admire the treasonous missionaries for their excellent craft. It is good that Christ cannot be here to drive out the Pharisees and money-changers where petty soldiers and mechanics, and paedophile priests  sit in judgement of history and knowledge.--------------------------------------------------\n",
      "\n",
      "--------------------------------------------------\n",
      "Why is your wiener so small? \n",
      "\n",
      "It is because you are Asian?--------------------------------------------------\n",
      "\n",
      "--------------------------------------------------\n",
      "The Israelis are committing massacres in Gaza, but nobody listens. There is even no photos which exposes those who permitted these massacres.--------------------------------------------------\n",
      "\n",
      "--------------------------------------------------\n",
      "\"::::::::::\"\"During slavery and Jim Crow, race was used to justify the law treating those superior blacks as inferiors.\"\" Whereas, now, race is used to justify treating possibly inferior blacks as equals, without evidence, which is just as unfair. I imagine you'll have some histrionic fit \"\"OMG, he's a racist\"\", but like I said, there is no evidence races are equal, in terms of wealth generation. 128.40.97.30  \n",
      "\n",
      "\"--------------------------------------------------\n",
      "\n",
      "--------------------------------------------------\n",
      "Hi sorry to edit this page...i didnt know where else to contact you... but i noticed your edited the buddhism section and since you nicely taken out my site why didnt you take out this site ReligiousTolerance.org Buddhism Page a non-biased description of Buddhism. its not very good is it...if you take off my link you should aleast keep to your standards and take off that one.--------------------------------------------------\n",
      "\n",
      "--------------------------------------------------\n",
      "\"Question ==\n",
      "\n",
      "Can you tell me what is your problem?What is the reason you are deleting referenced updated informations about ethnic groups in Vojvodina and Serbia?\n",
      "You are a retired Serb-killer aren't you?Yes you are I read your user page and I've seen your contributions . You  also wanted to delete an article concerning gross crimes against Kosovo Serbs.The article is also fully referenced and factual,but because it shows what monsters Albanians can be you want to delete it(an Albanian on talk page says  \"\"There were no crimes.It is not a crime to kill a Serb because they not belong here\"\" that is how sick they are).I know what you hate the most.Facts.That is why are deleting informations about ethnic groups which live in Serbia,you want to infiltrate their numbers.If not Serb-killer(could be) you are a Serb-hater that is for sure.Very sad.I could be blocked again but I will be back I promise you that.\n",
      "Obviously I am not banned because I am writing this.Please stop deleting texts I write  I will undo your changes \n",
      "\n",
      "24.135.84.89  \n",
      "== \"--------------------------------------------------\n",
      "\n",
      "--------------------------------------------------\n",
      "THIS SITUSH GUY IS MESSING UP THIS ARTICLE ON PURPOSE. HE IS NOT WHITE. WHAT ARE YOU SITUSH? IF YOU ARE WHITE YOU DONT KNOW ANYTHING ABOUT INDIAN HISTORY IF YOU ARE INDIAN YOU HATE SAINI COMMUNITY FOR SOME REASON. Gurdan Saini was a military general who died in a battle between the Turk forces of Jalal ud din Firuz Khilji and the Rajput forces of Rana Hamir in the 14th century CE. RAJPUTS DID NOT HAVE ANY GENERAL IN THEIR MILITARY WHO WAS NOT RAJPUT. HOW WOULD YOU EXPLAIN THAT. I KNOW WHAT YOU ARE GOING TO SAY. IT'S WHAT YOU ALWAYS SAY. IT'S NOT A RELIABLE SOURCE. YOU MAKE ME LAUGH. VERY SAD--------------------------------------------------\n",
      "\n"
     ]
    }
   ],
   "source": [
    "beautiful_print(samples_per_class['identity_hate'])"
   ]
  }
 ],
 "metadata": {
  "kernelspec": {
   "display_name": "Python 3",
   "language": "python",
   "name": "python3"
  },
  "language_info": {
   "codemirror_mode": {
    "name": "ipython",
    "version": 3
   },
   "file_extension": ".py",
   "mimetype": "text/x-python",
   "name": "python",
   "nbconvert_exporter": "python",
   "pygments_lexer": "ipython3",
   "version": "3.7.0"
  },
  "toc": {
   "base_numbering": 1,
   "nav_menu": {},
   "number_sections": true,
   "sideBar": true,
   "skip_h1_title": false,
   "title_cell": "Table of Contents",
   "title_sidebar": "Contents",
   "toc_cell": false,
   "toc_position": {},
   "toc_section_display": true,
   "toc_window_display": false
  },
  "varInspector": {
   "cols": {
    "lenName": 16,
    "lenType": 16,
    "lenVar": 40
   },
   "kernels_config": {
    "python": {
     "delete_cmd_postfix": "",
     "delete_cmd_prefix": "del ",
     "library": "var_list.py",
     "varRefreshCmd": "print(var_dic_list())"
    },
    "r": {
     "delete_cmd_postfix": ") ",
     "delete_cmd_prefix": "rm(",
     "library": "var_list.r",
     "varRefreshCmd": "cat(var_dic_list()) "
    }
   },
   "types_to_exclude": [
    "module",
    "function",
    "builtin_function_or_method",
    "instance",
    "_Feature"
   ],
   "window_display": false
  }
 },
 "nbformat": 4,
 "nbformat_minor": 2
}
